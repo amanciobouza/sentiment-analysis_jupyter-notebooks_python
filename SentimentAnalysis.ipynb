{
 "cells": [
  {
   "cell_type": "markdown",
   "metadata": {},
   "source": [
    "# Sentiment Analysis\n",
    "\n",
    "## Learning Objectives:\n",
    "1. How to prepare data for machine learning, i.e., vectrize\n",
    "1. How to learn ac machine learning classifier\n",
    "1. How to apply a machine learning classifier\n",
    "1. How to evaluate a machine learning classifier\n",
    "\n",
    "### Process:\n",
    "1. load dataset\n",
    "1. Analysis of data\n",
    "1. Create Feature Vector\n",
    "1. Vectorize data\n",
    "1. Learn Machine Learning Classifier\n",
    "1. Apply Machine Learning Classifier\n",
    "1. Evaluate Classifier\n"
   ]
  },
  {
   "cell_type": "markdown",
   "metadata": {},
   "source": [
    "# Setup"
   ]
  },
  {
   "cell_type": "code",
   "execution_count": 443,
   "metadata": {
    "collapsed": true
   },
   "outputs": [],
   "source": [
    "import os, sys\n",
    "import pandas as pd\n",
    "import re\n",
    "\n",
    "import nltk\n",
    "from nltk.corpus import stopwords\n",
    "from nltk.stem import WordNetLemmatizer\n",
    "lemmatizer = WordNetLemmatizer()\n",
    "from nltk.stem.porter import PorterStemmer\n",
    "stemmer = PorterStemmer()\n",
    "from nltk.tokenize import RegexpTokenizer\n",
    "tokenizer = RegexpTokenizer(r'\\w+[-]?\\w+')\n",
    "\n",
    "import scipy\n",
    "from scipy.sparse import dok_matrix\n",
    "\n",
    "import sklearn\n",
    "from sklearn.feature_selection import SelectKBest\n",
    "from sklearn.feature_selection import chi2\n",
    "\n",
    "from sklearn.model_selection import cross_val_score\n",
    "\n",
    "# Machine Learning Algorithms\n",
    "from sklearn.naive_bayes import GaussianNB"
   ]
  },
  {
   "cell_type": "code",
   "execution_count": 444,
   "metadata": {},
   "outputs": [
    {
     "name": "stdout",
     "output_type": "stream",
     "text": [
      "Version check:\n",
      "--------------\n",
      "Pandas v 0.22.0\n",
      "NLTK v 3.2.4\n",
      "SkiPy v 0.19.1\n",
      "SKLearn v 0.19.1\n"
     ]
    }
   ],
   "source": [
    "# Checking versions\n",
    "print('Version check:\\n--------------')\n",
    "print('Pandas v',pd.__version__)\n",
    "print('NLTK v',nltk.__version__)\n",
    "print('SkiPy v',scipy.__version__)\n",
    "print('SKLearn v',sklearn.__version__)"
   ]
  },
  {
   "cell_type": "markdown",
   "metadata": {},
   "source": [
    "##### How to download NLTK packages\n",
    "Replace *URL*, *USERNAME*, and *PASSWORD* if you need to configure a proxy.\n",
    "\n",
    "Then, uncomment the lines and run it.\n",
    "\n",
    "*Please note that a separate windows will popup. Select the appropriate package.*"
   ]
  },
  {
   "cell_type": "code",
   "execution_count": 445,
   "metadata": {},
   "outputs": [],
   "source": [
    "# nltk.set_proxy('http://gate-zrh-os.swissre.com:8080', ('<USERNAME>', '<PASSWORD>'))\n",
    "# nltk.download()"
   ]
  },
  {
   "cell_type": "markdown",
   "metadata": {},
   "source": [
    "## Utilities"
   ]
  },
  {
   "cell_type": "code",
   "execution_count": 446,
   "metadata": {},
   "outputs": [],
   "source": [
    "def writeResults(dfResults, sFilename, sPrefix='', sPostfix=''):\n",
    "    fnOut = sFilename\n",
    "    if sPrefix:\n",
    "        fnOut = sPrefix + fnOut\n",
    "    if sPostfix:\n",
    "        fnOut = fnOut + sPostfix\n",
    "        \n",
    "    filepath = outDirectory + fnOut\n",
    "    dfResults.to_excel(filepath)\n",
    "    print('Results haven been written to ', filepath)"
   ]
  },
  {
   "cell_type": "markdown",
   "metadata": {},
   "source": [
    "# Load Dataset"
   ]
  },
  {
   "cell_type": "code",
   "execution_count": 447,
   "metadata": {},
   "outputs": [],
   "source": [
    "# Filepath to dataset\n",
    "fpDataset = './data/customerfeedback.xlsx'\n",
    "\n",
    "#Load Excel file into a DataFrame\n",
    "dfExcelWorkbook = pd.read_excel(fpDataset, sheet_name=None)\n",
    "sheets = list(dfExcelWorkbook.keys())\n",
    "dfData = dfExcelWorkbook[sheets[0]]\n",
    "\n",
    "# Prepare directory to output results\n",
    "outDirectory = './result/'\n",
    "if not os.path.exists(outDirectory):\n",
    "    os.makedirs(outDirectory)\n"
   ]
  },
  {
   "cell_type": "code",
   "execution_count": 448,
   "metadata": {},
   "outputs": [
    {
     "data": {
      "text/html": [
       "<div>\n",
       "<style scoped>\n",
       "    .dataframe tbody tr th:only-of-type {\n",
       "        vertical-align: middle;\n",
       "    }\n",
       "\n",
       "    .dataframe tbody tr th {\n",
       "        vertical-align: top;\n",
       "    }\n",
       "\n",
       "    .dataframe thead th {\n",
       "        text-align: right;\n",
       "    }\n",
       "</style>\n",
       "<table border=\"1\" class=\"dataframe\">\n",
       "  <thead>\n",
       "    <tr style=\"text-align: right;\">\n",
       "      <th></th>\n",
       "      <th>FEEDBACK</th>\n",
       "      <th>RATING</th>\n",
       "    </tr>\n",
       "  </thead>\n",
       "  <tbody>\n",
       "    <tr>\n",
       "      <th>0</th>\n",
       "      <td>never got clean glasses in Warsaw either.</td>\n",
       "      <td>0</td>\n",
       "    </tr>\n",
       "    <tr>\n",
       "      <th>1</th>\n",
       "      <td>The bed in the Radisson Bleu was not comfortab...</td>\n",
       "      <td>1</td>\n",
       "    </tr>\n",
       "    <tr>\n",
       "      <th>2</th>\n",
       "      <td>Michael was an excellent tour director. He wen...</td>\n",
       "      <td>1</td>\n",
       "    </tr>\n",
       "    <tr>\n",
       "      <th>3</th>\n",
       "      <td>Krakow Hotel was below my expectations because...</td>\n",
       "      <td>0</td>\n",
       "    </tr>\n",
       "    <tr>\n",
       "      <th>4</th>\n",
       "      <td>All the city tour guides have been excellent a...</td>\n",
       "      <td>1</td>\n",
       "    </tr>\n",
       "    <tr>\n",
       "      <th>5</th>\n",
       "      <td>The bed in the Radisson Bleu was not comfortab...</td>\n",
       "      <td>0</td>\n",
       "    </tr>\n",
       "    <tr>\n",
       "      <th>6</th>\n",
       "      <td>The Prague hotel should provide in-room intern...</td>\n",
       "      <td>0</td>\n",
       "    </tr>\n",
       "    <tr>\n",
       "      <th>7</th>\n",
       "      <td>Michael (Tour Director) was brilliant! Thomas ...</td>\n",
       "      <td>1</td>\n",
       "    </tr>\n",
       "    <tr>\n",
       "      <th>8</th>\n",
       "      <td>The entire voyage was very well done by Viking...</td>\n",
       "      <td>0</td>\n",
       "    </tr>\n",
       "    <tr>\n",
       "      <th>9</th>\n",
       "      <td>Michael was excellent. The Prague hotel should...</td>\n",
       "      <td>1</td>\n",
       "    </tr>\n",
       "  </tbody>\n",
       "</table>\n",
       "</div>"
      ],
      "text/plain": [
       "                                            FEEDBACK  RATING\n",
       "0          never got clean glasses in Warsaw either.       0\n",
       "1  The bed in the Radisson Bleu was not comfortab...       1\n",
       "2  Michael was an excellent tour director. He wen...       1\n",
       "3  Krakow Hotel was below my expectations because...       0\n",
       "4  All the city tour guides have been excellent a...       1\n",
       "5  The bed in the Radisson Bleu was not comfortab...       0\n",
       "6  The Prague hotel should provide in-room intern...       0\n",
       "7  Michael (Tour Director) was brilliant! Thomas ...       1\n",
       "8  The entire voyage was very well done by Viking...       0\n",
       "9  Michael was excellent. The Prague hotel should...       1"
      ]
     },
     "execution_count": 448,
     "metadata": {},
     "output_type": "execute_result"
    }
   ],
   "source": [
    "# Check the read dataset \n",
    "dfData.head(10)"
   ]
  },
  {
   "cell_type": "markdown",
   "metadata": {},
   "source": [
    "## Stats and Infos\n",
    "Some info about the data"
   ]
  },
  {
   "cell_type": "code",
   "execution_count": 449,
   "metadata": {},
   "outputs": [
    {
     "name": "stdout",
     "output_type": "stream",
     "text": [
      "Number of attributes: 2\n",
      "Name of attributes: Index(['FEEDBACK', 'RATING'], dtype='object')\n",
      "Number of rows: 28448\n"
     ]
    }
   ],
   "source": [
    "print('Number of attributes:', dfData.shape[1])\n",
    "print('Name of attributes:', dfData.columns)\n",
    "print('Number of rows:', dfData.shape[0])\n"
   ]
  },
  {
   "cell_type": "markdown",
   "metadata": {},
   "source": [
    "# Feacture Vector"
   ]
  },
  {
   "cell_type": "markdown",
   "metadata": {},
   "source": [
    "## Build Feature Vector"
   ]
  },
  {
   "cell_type": "code",
   "execution_count": 450,
   "metadata": {},
   "outputs": [],
   "source": [
    "def countTokens(tokens):\n",
    "    results = {}\n",
    "\n",
    "    for token in tokens:\n",
    "        if token not in results:\n",
    "            results[token] = 1\n",
    "        else:\n",
    "            results[token] = results[token] + 1\n",
    "    return results"
   ]
  },
  {
   "cell_type": "code",
   "execution_count": 451,
   "metadata": {},
   "outputs": [],
   "source": [
    "def extractTokens(strText):\n",
    "    return tokenizer.tokenize(strText)"
   ]
  },
  {
   "cell_type": "code",
   "execution_count": 452,
   "metadata": {},
   "outputs": [],
   "source": [
    "featureColumns = ['feature', 'positives', 'negatives']\n",
    "dfFeatures = pd.DataFrame(columns=featureColumns)\n",
    "colFeedback = 'FEEDBACK'\n",
    "colRating = 'RATING'\n",
    "\n",
    "features = {}\n",
    "for index in range(0, 100): #dfData.shape[0]):\n",
    "    # get feedback\n",
    "    feedback = dfData.iloc[index][colFeedback]\n",
    "    rating = dfData.iloc[index][colRating]\n",
    "    \n",
    "    # analyze feedback\n",
    "    tokens = extractTokens(feedback)\n",
    "    featurecount = countTokens(tokens)\n",
    "    \n",
    "    # add to feature list\n",
    "    for feature in featurecount.keys():\n",
    "        if feature not in features:\n",
    "            features[feature] = {'positives': 0, 'negatives': 0}\n",
    "        if rating == 0:\n",
    "            features[feature]['negatives'] = features[feature]['negatives'] + 1\n",
    "        elif rating != 0:\n",
    "            features[feature]['positives'] = features[feature]['positives'] + 1   \n",
    "          \n",
    "# create and beautify\n",
    "dfFeatures = pd.DataFrame.from_dict(features, orient='index')\n",
    "dfFeatures = dfFeatures.reset_index()\n",
    "dfFeatures = dfFeatures.rename({'index':'feature'}, axis=1)"
   ]
  },
  {
   "cell_type": "markdown",
   "metadata": {},
   "source": [
    "### Analyze Features"
   ]
  },
  {
   "cell_type": "code",
   "execution_count": 453,
   "metadata": {},
   "outputs": [
    {
     "name": "stdout",
     "output_type": "stream",
     "text": [
      "Results haven been written to  ./result/allfeatures.xlsx\n"
     ]
    }
   ],
   "source": [
    "# Count number of times freature occures\n",
    "dfFeatures['support'] = dfFeatures.apply(lambda x: x['positives'] + x['negatives'], axis=1)\n",
    "\n",
    "# Compute sentiment value feature\n",
    "dfFeatures['sentiment'] = dfFeatures.apply(lambda x: x['positives'] / x['support'], axis=1)\n",
    "\n",
    "dfFeatures.head(20)\n",
    "\n",
    "fnFeaturesAll = 'allfeatures.xlsx'\n",
    "writeResults(dfFeatures, fnFeaturesAll)"
   ]
  },
  {
   "cell_type": "code",
   "execution_count": null,
   "metadata": {},
   "outputs": [],
   "source": []
  },
  {
   "cell_type": "markdown",
   "metadata": {},
   "source": [
    "## Load Feature Vector"
   ]
  },
  {
   "cell_type": "code",
   "execution_count": 454,
   "metadata": {},
   "outputs": [],
   "source": [
    "dfExcelWorkbook = pd.read_excel(outDirectory + fnFeaturesAll, sheet_name=None)\n",
    "sheets = list(dfExcelWorkbook.keys())\n",
    "dfFeatures = dfExcelWorkbook[sheets[0]]"
   ]
  },
  {
   "cell_type": "code",
   "execution_count": 455,
   "metadata": {},
   "outputs": [
    {
     "name": "stdout",
     "output_type": "stream",
     "text": [
      "Feature Stats:\n",
      "Number of Features: 691\n"
     ]
    },
    {
     "data": {
      "text/html": [
       "<div>\n",
       "<style scoped>\n",
       "    .dataframe tbody tr th:only-of-type {\n",
       "        vertical-align: middle;\n",
       "    }\n",
       "\n",
       "    .dataframe tbody tr th {\n",
       "        vertical-align: top;\n",
       "    }\n",
       "\n",
       "    .dataframe thead th {\n",
       "        text-align: right;\n",
       "    }\n",
       "</style>\n",
       "<table border=\"1\" class=\"dataframe\">\n",
       "  <thead>\n",
       "    <tr style=\"text-align: right;\">\n",
       "      <th></th>\n",
       "      <th>feature</th>\n",
       "      <th>positives</th>\n",
       "      <th>negatives</th>\n",
       "      <th>support</th>\n",
       "      <th>sentiment</th>\n",
       "    </tr>\n",
       "  </thead>\n",
       "  <tbody>\n",
       "    <tr>\n",
       "      <th>0</th>\n",
       "      <td>1-2</td>\n",
       "      <td>0</td>\n",
       "      <td>1</td>\n",
       "      <td>1</td>\n",
       "      <td>0.000000</td>\n",
       "    </tr>\n",
       "    <tr>\n",
       "      <th>1</th>\n",
       "      <td>15</td>\n",
       "      <td>1</td>\n",
       "      <td>1</td>\n",
       "      <td>2</td>\n",
       "      <td>0.500000</td>\n",
       "    </tr>\n",
       "    <tr>\n",
       "      <th>2</th>\n",
       "      <td>1A</td>\n",
       "      <td>0</td>\n",
       "      <td>1</td>\n",
       "      <td>1</td>\n",
       "      <td>0.000000</td>\n",
       "    </tr>\n",
       "    <tr>\n",
       "      <th>3</th>\n",
       "      <td>2nd</td>\n",
       "      <td>0</td>\n",
       "      <td>1</td>\n",
       "      <td>1</td>\n",
       "      <td>0.000000</td>\n",
       "    </tr>\n",
       "    <tr>\n",
       "      <th>4</th>\n",
       "      <td>30</td>\n",
       "      <td>1</td>\n",
       "      <td>1</td>\n",
       "      <td>2</td>\n",
       "      <td>0.500000</td>\n",
       "    </tr>\n",
       "    <tr>\n",
       "      <th>5</th>\n",
       "      <td>69</td>\n",
       "      <td>0</td>\n",
       "      <td>1</td>\n",
       "      <td>1</td>\n",
       "      <td>0.000000</td>\n",
       "    </tr>\n",
       "    <tr>\n",
       "      <th>6</th>\n",
       "      <td>AC</td>\n",
       "      <td>0</td>\n",
       "      <td>1</td>\n",
       "      <td>1</td>\n",
       "      <td>0.000000</td>\n",
       "    </tr>\n",
       "    <tr>\n",
       "      <th>7</th>\n",
       "      <td>Adam</td>\n",
       "      <td>1</td>\n",
       "      <td>0</td>\n",
       "      <td>1</td>\n",
       "      <td>1.000000</td>\n",
       "    </tr>\n",
       "    <tr>\n",
       "      <th>8</th>\n",
       "      <td>All</td>\n",
       "      <td>3</td>\n",
       "      <td>0</td>\n",
       "      <td>3</td>\n",
       "      <td>1.000000</td>\n",
       "    </tr>\n",
       "    <tr>\n",
       "      <th>9</th>\n",
       "      <td>Alpendurada</td>\n",
       "      <td>1</td>\n",
       "      <td>3</td>\n",
       "      <td>4</td>\n",
       "      <td>0.250000</td>\n",
       "    </tr>\n",
       "    <tr>\n",
       "      <th>10</th>\n",
       "      <td>Amazing</td>\n",
       "      <td>1</td>\n",
       "      <td>0</td>\n",
       "      <td>1</td>\n",
       "      <td>1.000000</td>\n",
       "    </tr>\n",
       "    <tr>\n",
       "      <th>11</th>\n",
       "      <td>An</td>\n",
       "      <td>2</td>\n",
       "      <td>0</td>\n",
       "      <td>2</td>\n",
       "      <td>1.000000</td>\n",
       "    </tr>\n",
       "    <tr>\n",
       "      <th>12</th>\n",
       "      <td>Angela</td>\n",
       "      <td>1</td>\n",
       "      <td>0</td>\n",
       "      <td>1</td>\n",
       "      <td>1.000000</td>\n",
       "    </tr>\n",
       "    <tr>\n",
       "      <th>13</th>\n",
       "      <td>As</td>\n",
       "      <td>1</td>\n",
       "      <td>1</td>\n",
       "      <td>2</td>\n",
       "      <td>0.500000</td>\n",
       "    </tr>\n",
       "    <tr>\n",
       "      <th>14</th>\n",
       "      <td>Auschwitz</td>\n",
       "      <td>1</td>\n",
       "      <td>2</td>\n",
       "      <td>3</td>\n",
       "      <td>0.333333</td>\n",
       "    </tr>\n",
       "    <tr>\n",
       "      <th>15</th>\n",
       "      <td>Avessada</td>\n",
       "      <td>1</td>\n",
       "      <td>1</td>\n",
       "      <td>2</td>\n",
       "      <td>0.500000</td>\n",
       "    </tr>\n",
       "    <tr>\n",
       "      <th>16</th>\n",
       "      <td>Because</td>\n",
       "      <td>1</td>\n",
       "      <td>0</td>\n",
       "      <td>1</td>\n",
       "      <td>1.000000</td>\n",
       "    </tr>\n",
       "    <tr>\n",
       "      <th>17</th>\n",
       "      <td>Best</td>\n",
       "      <td>1</td>\n",
       "      <td>0</td>\n",
       "      <td>1</td>\n",
       "      <td>1.000000</td>\n",
       "    </tr>\n",
       "    <tr>\n",
       "      <th>18</th>\n",
       "      <td>Biking</td>\n",
       "      <td>0</td>\n",
       "      <td>1</td>\n",
       "      <td>1</td>\n",
       "      <td>0.000000</td>\n",
       "    </tr>\n",
       "    <tr>\n",
       "      <th>19</th>\n",
       "      <td>Bleu</td>\n",
       "      <td>1</td>\n",
       "      <td>1</td>\n",
       "      <td>2</td>\n",
       "      <td>0.500000</td>\n",
       "    </tr>\n",
       "  </tbody>\n",
       "</table>\n",
       "</div>"
      ],
      "text/plain": [
       "        feature  positives  negatives  support  sentiment\n",
       "0           1-2          0          1        1   0.000000\n",
       "1            15          1          1        2   0.500000\n",
       "2            1A          0          1        1   0.000000\n",
       "3           2nd          0          1        1   0.000000\n",
       "4            30          1          1        2   0.500000\n",
       "5            69          0          1        1   0.000000\n",
       "6            AC          0          1        1   0.000000\n",
       "7          Adam          1          0        1   1.000000\n",
       "8           All          3          0        3   1.000000\n",
       "9   Alpendurada          1          3        4   0.250000\n",
       "10      Amazing          1          0        1   1.000000\n",
       "11           An          2          0        2   1.000000\n",
       "12       Angela          1          0        1   1.000000\n",
       "13           As          1          1        2   0.500000\n",
       "14    Auschwitz          1          2        3   0.333333\n",
       "15     Avessada          1          1        2   0.500000\n",
       "16      Because          1          0        1   1.000000\n",
       "17         Best          1          0        1   1.000000\n",
       "18       Biking          0          1        1   0.000000\n",
       "19         Bleu          1          1        2   0.500000"
      ]
     },
     "execution_count": 455,
     "metadata": {},
     "output_type": "execute_result"
    }
   ],
   "source": [
    "print('Feature Stats:')\n",
    "print('Number of Features:', dfFeatures.shape[0])\n",
    "dfFeatures.head(20)"
   ]
  },
  {
   "cell_type": "markdown",
   "metadata": {},
   "source": [
    "## Feature Selection"
   ]
  },
  {
   "cell_type": "code",
   "execution_count": 456,
   "metadata": {},
   "outputs": [
    {
     "data": {
      "text/html": [
       "<div>\n",
       "<style scoped>\n",
       "    .dataframe tbody tr th:only-of-type {\n",
       "        vertical-align: middle;\n",
       "    }\n",
       "\n",
       "    .dataframe tbody tr th {\n",
       "        vertical-align: top;\n",
       "    }\n",
       "\n",
       "    .dataframe thead th {\n",
       "        text-align: right;\n",
       "    }\n",
       "</style>\n",
       "<table border=\"1\" class=\"dataframe\">\n",
       "  <thead>\n",
       "    <tr style=\"text-align: right;\">\n",
       "      <th></th>\n",
       "      <th>feature</th>\n",
       "      <th>positives</th>\n",
       "      <th>negatives</th>\n",
       "      <th>support</th>\n",
       "      <th>sentiment</th>\n",
       "    </tr>\n",
       "  </thead>\n",
       "  <tbody>\n",
       "    <tr>\n",
       "      <th>660</th>\n",
       "      <td>was</td>\n",
       "      <td>31</td>\n",
       "      <td>18</td>\n",
       "      <td>49</td>\n",
       "      <td>0.632653</td>\n",
       "    </tr>\n",
       "    <tr>\n",
       "      <th>599</th>\n",
       "      <td>the</td>\n",
       "      <td>24</td>\n",
       "      <td>15</td>\n",
       "      <td>39</td>\n",
       "      <td>0.615385</td>\n",
       "    </tr>\n",
       "    <tr>\n",
       "      <th>616</th>\n",
       "      <td>to</td>\n",
       "      <td>16</td>\n",
       "      <td>21</td>\n",
       "      <td>37</td>\n",
       "      <td>0.432432</td>\n",
       "    </tr>\n",
       "    <tr>\n",
       "      <th>142</th>\n",
       "      <td>and</td>\n",
       "      <td>22</td>\n",
       "      <td>14</td>\n",
       "      <td>36</td>\n",
       "      <td>0.611111</td>\n",
       "    </tr>\n",
       "    <tr>\n",
       "      <th>366</th>\n",
       "      <td>in</td>\n",
       "      <td>14</td>\n",
       "      <td>11</td>\n",
       "      <td>25</td>\n",
       "      <td>0.560000</td>\n",
       "    </tr>\n",
       "    <tr>\n",
       "      <th>650</th>\n",
       "      <td>very</td>\n",
       "      <td>18</td>\n",
       "      <td>7</td>\n",
       "      <td>25</td>\n",
       "      <td>0.720000</td>\n",
       "    </tr>\n",
       "    <tr>\n",
       "      <th>458</th>\n",
       "      <td>of</td>\n",
       "      <td>17</td>\n",
       "      <td>7</td>\n",
       "      <td>24</td>\n",
       "      <td>0.708333</td>\n",
       "    </tr>\n",
       "    <tr>\n",
       "      <th>622</th>\n",
       "      <td>tour</td>\n",
       "      <td>14</td>\n",
       "      <td>6</td>\n",
       "      <td>20</td>\n",
       "      <td>0.700000</td>\n",
       "    </tr>\n",
       "    <tr>\n",
       "      <th>98</th>\n",
       "      <td>The</td>\n",
       "      <td>12</td>\n",
       "      <td>7</td>\n",
       "      <td>19</td>\n",
       "      <td>0.631579</td>\n",
       "    </tr>\n",
       "    <tr>\n",
       "      <th>281</th>\n",
       "      <td>excellent</td>\n",
       "      <td>17</td>\n",
       "      <td>2</td>\n",
       "      <td>19</td>\n",
       "      <td>0.894737</td>\n",
       "    </tr>\n",
       "  </tbody>\n",
       "</table>\n",
       "</div>"
      ],
      "text/plain": [
       "       feature  positives  negatives  support  sentiment\n",
       "660        was         31         18       49   0.632653\n",
       "599        the         24         15       39   0.615385\n",
       "616         to         16         21       37   0.432432\n",
       "142        and         22         14       36   0.611111\n",
       "366         in         14         11       25   0.560000\n",
       "650       very         18          7       25   0.720000\n",
       "458         of         17          7       24   0.708333\n",
       "622       tour         14          6       20   0.700000\n",
       "98         The         12          7       19   0.631579\n",
       "281  excellent         17          2       19   0.894737"
      ]
     },
     "execution_count": 456,
     "metadata": {},
     "output_type": "execute_result"
    }
   ],
   "source": [
    "dfFeatureVector = dfFeatures.sort_values(by='support', ascending=False).head(20)\n",
    "dfFeatureVector.head(10)"
   ]
  },
  {
   "cell_type": "markdown",
   "metadata": {},
   "source": [
    "# Prepare Trainingset"
   ]
  },
  {
   "cell_type": "markdown",
   "metadata": {},
   "source": [
    "## Create Instances"
   ]
  },
  {
   "cell_type": "markdown",
   "metadata": {},
   "source": [
    "An instance from a text is used to train a machine learning model or to classify the text. The instance is a vector representation of a text based on the given feature vector."
   ]
  },
  {
   "cell_type": "code",
   "execution_count": 457,
   "metadata": {},
   "outputs": [],
   "source": [
    "def createInstance(strText, dfFeatures=dfFeatureVector):\n",
    "    result = []\n",
    "    \n",
    "    for feature in dfFeatureVector['feature']:\n",
    "        if (feature in strText):\n",
    "            result.append(1)\n",
    "        else:\n",
    "            result.append(0)\n",
    "    \n",
    "    return result"
   ]
  },
  {
   "cell_type": "code",
   "execution_count": null,
   "metadata": {},
   "outputs": [],
   "source": []
  },
  {
   "cell_type": "code",
   "execution_count": null,
   "metadata": {},
   "outputs": [],
   "source": []
  },
  {
   "cell_type": "code",
   "execution_count": 458,
   "metadata": {},
   "outputs": [],
   "source": [
    "trainSet = []\n",
    "trainSetLabels = []\n",
    "for index, row in dfData[1:100].iterrows():\n",
    "    instance = createInstance(row['FEEDBACK'])\n",
    "    trainSet.append(instance)\n",
    "    trainSetLabels.append(row['RATING'])\n",
    "    \n",
    "m = dok_matrix(trainSet)"
   ]
  },
  {
   "cell_type": "code",
   "execution_count": 459,
   "metadata": {},
   "outputs": [
    {
     "data": {
      "text/plain": [
       "[[1, 1, 1, 1, 1, 0, 1, 1, 0, 1, 0, 1, 1, 0, 0, 0, 0, 0, 1, 1],\n",
       " [1, 1, 1, 1, 1, 0, 1, 0, 0, 0, 0, 0, 1, 0, 0, 1, 0, 0, 1, 1],\n",
       " [1, 1, 1, 1, 0, 1, 1, 1, 0, 1, 1, 0, 1, 1, 0, 0, 0, 1, 0, 0],\n",
       " [1, 1, 0, 1, 1, 0, 0, 0, 1, 1, 1, 1, 1, 0, 1, 0, 0, 0, 1, 0],\n",
       " [1, 0, 0, 1, 1, 0, 0, 0, 1, 0, 0, 0, 0, 0, 0, 1, 0, 0, 0, 0],\n",
       " [1, 0, 1, 1, 0, 1, 0, 0, 0, 1, 0, 0, 0, 0, 0, 0, 0, 0, 0, 0],\n",
       " [1, 1, 1, 0, 1, 1, 0, 0, 1, 0, 0, 1, 1, 0, 1, 0, 0, 0, 0, 0],\n",
       " [1, 0, 0, 1, 1, 0, 0, 0, 1, 1, 0, 0, 0, 0, 0, 1, 0, 0, 0, 0],\n",
       " [1, 0, 1, 0, 0, 1, 0, 1, 0, 0, 1, 0, 0, 0, 0, 1, 0, 1, 0, 1]]"
      ]
     },
     "execution_count": 459,
     "metadata": {},
     "output_type": "execute_result"
    }
   ],
   "source": [
    "# Check result\n",
    "trainSet[1:10]"
   ]
  },
  {
   "cell_type": "markdown",
   "metadata": {},
   "source": [
    "## Feature Selection"
   ]
  },
  {
   "cell_type": "code",
   "execution_count": 460,
   "metadata": {},
   "outputs": [],
   "source": [
    "#X2TrainInstances = SelectKBest(chi2, k=10).fit_transform(trainSet, trainSetLabels)"
   ]
  },
  {
   "cell_type": "markdown",
   "metadata": {},
   "source": [
    "# Machine Learning"
   ]
  },
  {
   "cell_type": "code",
   "execution_count": 461,
   "metadata": {},
   "outputs": [],
   "source": [
    "# Naive Bayes (NB)\n",
    "nb = GaussianNB()\n",
    "classifier = nb.fit(trainSet,trainSetLabels)\n",
    "\n",
    "# Support Vector Machines (SVM)\n",
    "# svm = SVC()\n",
    "# classifier = svm.fit(m,trainSetLabels)\n",
    "\n",
    "# ADA Boost\n",
    "# adaBoost = AdaBoostClassifier(n_estimators=200)\n",
    "# classifier = adaBoost.fit(m,trainSetLabels)\n",
    "\n",
    "# Random Forest\n",
    "# randomForest = RandomForestClassifier(n_estimators=20)\n",
    "# classifier = randomForest.fit(trainSet,trainSetLabels)"
   ]
  },
  {
   "cell_type": "markdown",
   "metadata": {},
   "source": [
    "## Quick Analysis"
   ]
  },
  {
   "cell_type": "code",
   "execution_count": 463,
   "metadata": {},
   "outputs": [
    {
     "name": "stdout",
     "output_type": "stream",
     "text": [
      "0.7878787878787878\n",
      "GaussianNB(priors=None)\n"
     ]
    }
   ],
   "source": [
    "print(classifier.score(trainSet,trainSetLabels))"
   ]
  },
  {
   "cell_type": "markdown",
   "metadata": {},
   "source": [
    "# Sentiment Analysis"
   ]
  },
  {
   "cell_type": "code",
   "execution_count": null,
   "metadata": {},
   "outputs": [],
   "source": []
  },
  {
   "cell_type": "code",
   "execution_count": null,
   "metadata": {},
   "outputs": [],
   "source": []
  },
  {
   "cell_type": "markdown",
   "metadata": {},
   "source": [
    "# Evaluation"
   ]
  },
  {
   "cell_type": "code",
   "execution_count": 478,
   "metadata": {},
   "outputs": [
    {
     "name": "stdout",
     "output_type": "stream",
     "text": [
      "Score per fold: [0.72727273 0.45454545 0.90909091 0.81818182 0.7        0.55555556\n",
      " 0.77777778 0.55555556 0.77777778 0.77777778]\n",
      "Avg. Score: 0.7053535353535354\n",
      "Precision: 0.8279761904761905\n",
      "Recall: 0.7285714285714284\n",
      "F1: 0.7522230710466004\n"
     ]
    }
   ],
   "source": [
    "print('Score per fold:', scoresAccuracy)\n",
    "score = cross_val_score(classifier, trainSet, trainSetLabels, cv=10)\n",
    "print('Avg. Score:', score.mean())\n",
    "\n",
    "Precision_score = cross_val_score(classifier, trainSet, trainSetLabels, cv=10, scoring='precision')\n",
    "print('Precision:', Precision_score.mean())\n",
    "Recall_score = cross_val_score(classifier, trainSet, trainSetLabels, cv=10, scoring='recall')\n",
    "print('Recall:', Recall_score.mean())\n",
    "F1_score = cross_val_score(classifier, trainSet, trainSetLabels, cv=10, scoring='f1')\n",
    "print('F1:', F1_score.mean())\n",
    "\n"
   ]
  },
  {
   "cell_type": "code",
   "execution_count": null,
   "metadata": {},
   "outputs": [],
   "source": []
  },
  {
   "cell_type": "markdown",
   "metadata": {},
   "source": [
    "## General Utilities"
   ]
  },
  {
   "cell_type": "code",
   "execution_count": 81,
   "metadata": {
    "collapsed": true
   },
   "outputs": [],
   "source": []
  },
  {
   "cell_type": "code",
   "execution_count": 82,
   "metadata": {
    "collapsed": true
   },
   "outputs": [],
   "source": [
    "def preprocessWord(word, aPoSType='n', lemmatize=True, stem=False):\n",
    "    ### Lowercase\n",
    "    word = word.lower()\n",
    "    \n",
    "    \n",
    "    ### Lemmatize\n",
    "    if lemmatize:\n",
    "        word = lemmatizer.lemmatize(word, aPoSType)\n",
    "        \n",
    "    ### Stemming\n",
    "    if stem:\n",
    "        word = stemmer.stem(word)\n",
    "        \n",
    "    return word"
   ]
  },
  {
   "cell_type": "code",
   "execution_count": 83,
   "metadata": {
    "collapsed": true
   },
   "outputs": [],
   "source": [
    "def preprocessSentence(strSentence):\n",
    "    result = ''\n",
    "    words = tokenizer.tokenize(strSentence)\n",
    "    for word in words:\n",
    "        word = preprocessWord(word)\n",
    "        result += word + ' '\n",
    "        \n",
    "    return result.strip()"
   ]
  }
 ],
 "metadata": {
  "kernelspec": {
   "display_name": "Python 3",
   "language": "python",
   "name": "python3"
  },
  "language_info": {
   "codemirror_mode": {
    "name": "ipython",
    "version": 3
   },
   "file_extension": ".py",
   "mimetype": "text/x-python",
   "name": "python",
   "nbconvert_exporter": "python",
   "pygments_lexer": "ipython3",
   "version": "3.6.3"
  }
 },
 "nbformat": 4,
 "nbformat_minor": 2
}
